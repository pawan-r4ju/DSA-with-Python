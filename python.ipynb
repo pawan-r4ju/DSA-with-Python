{
 "cells": [
  {
   "cell_type": "markdown",
   "metadata": {},
   "source": [
    "-   Variables and Data Types\n",
    "-   Control Flow (Conditionals and Loops)\n",
    "-   Functions and Recursion\n",
    "-   Data Structures (Lists, Tuples, Sets, Dictionaries)\n",
    "-   Exception Handling\n",
    "-   File Handling\n",
    "-   Object-Oriented Programming (OOP) Concepts\n",
    "\n",
    "Here's a more comprehensive list of 50 questions to cover **all Python basics**:\n",
    "\n",
    "### 1\\. Variables and Data Types\n",
    "\n",
    "1.  Write a Python program to declare a variable and assign an integer, float, string, and boolean value.\n",
    "2.  Write a Python program to check the data type of a variable.\n",
    "3.  Write a Python program to perform basic arithmetic operations (addition, subtraction, multiplication, division).\n",
    "4.  Write a Python program to convert a string to an integer and an integer to a string.\n",
    "5.  Write a Python program to find the remainder and quotient of two numbers.\n",
    "\n",
    "### 2\\. Strings and String Manipulation\n",
    "\n",
    "1.  Write a Python program to concatenate two strings.\n",
    "2.  Write a Python program to find the length of a string.\n",
    "3.  Write a Python program to check if a string contains a specific substring.\n",
    "4.  Write a Python program to check if a string starts with a specific prefix and ends with a specific suffix.\n",
    "5.  Write a Python program to count the occurrences of a character in a string.\n",
    "\n",
    "### 3\\. Control Flow (Conditionals and Loops)\n",
    "\n",
    "1.  Write a Python program to find whether a number is even or odd using an `if` condition.\n",
    "2.  Write a Python program to check whether a number is divisible by both 2 and 3 using an `if` condition.\n",
    "3.  Write a Python program to print all even numbers from 1 to 100 using a `for` loop.\n",
    "4.  Write a Python program to calculate the sum of numbers from 1 to N using a `while` loop.\n",
    "5.  Write a Python program to print a multiplication table using a loop.\n",
    "\n",
    "### 4\\. Functions and Recursion\n",
    "\n",
    "1.  Write a Python function to calculate the factorial of a number.\n",
    "2.  Write a Python function to return the maximum of three numbers.\n",
    "3.  Write a Python function that checks if a number is prime.\n",
    "4.  Write a Python function that accepts a list of numbers and returns the largest number.\n",
    "5.  Write a Python function to compute the nth Fibonacci number using recursion.\n",
    "\n",
    "### 5\\. Lists\n",
    "\n",
    "1.  Write a Python program to create a list with 5 elements and access the third element.\n",
    "2.  Write a Python program to append an element to a list.\n",
    "3.  Write a Python program to remove an element from a list by index.\n",
    "4.  Write a Python program to sort a list of integers in ascending order.\n",
    "5.  Write a Python program to find the index of a value in a list.\n",
    "\n",
    "### 6\\. Tuples\n",
    "\n",
    "1.  Write a Python program to create a tuple and print the first and last elements.\n",
    "2.  Write a Python program to find the length of a tuple.\n",
    "3.  Write a Python program to check if an element exists in a tuple.\n",
    "4.  Write a Python program to count the number of occurrences of an element in a tuple.\n",
    "5.  Write a Python program to convert a tuple to a list.\n",
    "\n",
    "### 7\\. Sets\n",
    "\n",
    "1.  Write a Python program to create a set and add elements to it.\n",
    "2.  Write a Python program to remove an element from a set.\n",
    "3.  Write a Python program to check if an element is present in a set.\n",
    "4.  Write a Python program to find the intersection of two sets.\n",
    "5.  Write a Python program to remove duplicates from a list using a set.\n",
    "\n",
    "### 8\\. Dictionaries\n",
    "\n",
    "1.  Write a Python program to create a dictionary and access a value by key.\n",
    "2.  Write a Python program to add a key-value pair to a dictionary.\n",
    "3.  Write a Python program to update the value of an existing key in a dictionary.\n",
    "4.  Write a Python program to remove a key from a dictionary.\n",
    "5.  Write a Python program to check if a key exists in a dictionary.\n",
    "\n",
    "### 9\\. Exception Handling\n",
    "\n",
    "1.  Write a Python program to handle an exception if a user enters a string instead of a number.\n",
    "2.  Write a Python program to raise a custom exception if a number is less than zero.\n",
    "3.  Write a Python program to handle division by zero and display a custom error message.\n",
    "4.  Write a Python program that catches multiple exceptions and displays custom messages.\n",
    "5.  Write a Python program that uses `try`, `except`, and `finally` blocks.\n",
    "\n",
    "### 10\\. File Handling\n",
    "\n",
    "1.  Write a Python program to open a file and read its contents.\n",
    "2.  Write a Python program to write data to a text file.\n",
    "3.  Write a Python program to append data to an existing file.\n",
    "4.  Write a Python program to read a file line by line and count the number of lines.\n",
    "5.  Write a Python program to delete a file using Python."
   ]
  },
  {
   "cell_type": "markdown",
   "metadata": {},
   "source": [
    "### 1\\. Variables and Data Types\n",
    "\n",
    "1.  Write a Python program to declare a variable and assign an integer, float, string, and boolean value.\n",
    "2.  Write a Python program to check the data type of a variable.\n",
    "3.  Write a Python program to perform basic arithmetic operations (addition, subtraction, multiplication, division).\n",
    "4.  Write a Python program to convert a string to an integer and an integer to a string.\n",
    "5.  Write a Python program to find the remainder and quotient of two numbers.\n",
    "\n"
   ]
  },
  {
   "cell_type": "code",
   "execution_count": null,
   "metadata": {},
   "outputs": [
    {
     "name": "stdout",
     "output_type": "stream",
     "text": [
      "<class 'int'> <class 'float'> <class 'str'> <class 'bool'>\n"
     ]
    }
   ],
   "source": [
    "# 1.\n",
    "a=1\n",
    "b=0.2\n",
    "c='pawan'\n",
    "d=True"
   ]
  },
  {
   "cell_type": "code",
   "execution_count": 5,
   "metadata": {},
   "outputs": [
    {
     "name": "stdout",
     "output_type": "stream",
     "text": [
      "<class 'int'> <class 'float'> <class 'str'> <class 'bool'>\n"
     ]
    }
   ],
   "source": [
    "# 2.\n",
    "print(type(a),type(b),type(c),type(d))\n"
   ]
  },
  {
   "cell_type": "code",
   "execution_count": null,
   "metadata": {},
   "outputs": [
    {
     "name": "stdout",
     "output_type": "stream",
     "text": [
      "6 \n",
      " 2 \n",
      " 2.0 \n",
      " 8\n"
     ]
    }
   ],
   "source": [
    "#3.\n",
    "def arthithamatic(a,b):\n",
    "    print(a+b,\"\\n\",a-b,\"\\n\",a/b,\"\\n\",a*b)\n",
    "\n",
    "arthithamatic(4,2)"
   ]
  },
  {
   "cell_type": "code",
   "execution_count": null,
   "metadata": {},
   "outputs": [
    {
     "name": "stdout",
     "output_type": "stream",
     "text": [
      "<class 'int'>\n",
      "<class 'str'>\n"
     ]
    }
   ],
   "source": [
    "# 4\n",
    "string = '32'\n",
    "number = 12\n",
    "\n",
    "print(type(int(string)))\n",
    "print(type(str(number)))"
   ]
  },
  {
   "cell_type": "code",
   "execution_count": null,
   "metadata": {},
   "outputs": [
    {
     "name": "stdout",
     "output_type": "stream",
     "text": [
      "quotient 2\n",
      "rem 0\n"
     ]
    }
   ],
   "source": [
    "# 5.\n",
    "def rem_and_quotient(a,b):\n",
    "    print(\"quotient\",a//b)\n",
    "    print(\"rem\",a%b)\n",
    "\n",
    "rem_and_quotient(4,2)"
   ]
  },
  {
   "cell_type": "markdown",
   "metadata": {},
   "source": [
    "### 2\\. Strings and String Manipulation\n",
    "\n",
    "1.  Write a Python program to concatenate two strings.\n",
    "2.  Write a Python program to find the length of a string.\n",
    "3.  Write a Python program to check if a string contains a specific substring.\n",
    "4.  Write a Python program to check if a string starts with a specific prefix and ends with a specific suffix.\n",
    "5.  Write a Python program to count the occurrences of a character in a string.\n"
   ]
  },
  {
   "cell_type": "code",
   "execution_count": null,
   "metadata": {},
   "outputs": [
    {
     "name": "stdout",
     "output_type": "stream",
     "text": [
      "pawan raju\n"
     ]
    }
   ],
   "source": [
    "#1.\n",
    "a = \"pawan \"\n",
    "b = \"raju\"\n",
    "print(a+b)"
   ]
  },
  {
   "cell_type": "code",
   "execution_count": 22,
   "metadata": {},
   "outputs": [
    {
     "name": "stdout",
     "output_type": "stream",
     "text": [
      "5\n"
     ]
    }
   ],
   "source": [
    "#2.\n",
    "a = \"pawan\"\n",
    "print(len(a))"
   ]
  },
  {
   "cell_type": "code",
   "execution_count": 26,
   "metadata": {},
   "outputs": [
    {
     "name": "stdout",
     "output_type": "stream",
     "text": [
      "exists\n"
     ]
    }
   ],
   "source": [
    "#3.\n",
    "a='pawan'\n",
    "b=\"an\"\n",
    "if b in a:\n",
    "    print(\"exists\")\n",
    "else:\n",
    "    print(\"not exists\")"
   ]
  },
  {
   "cell_type": "code",
   "execution_count": 27,
   "metadata": {},
   "outputs": [
    {
     "name": "stdout",
     "output_type": "stream",
     "text": [
      "The string \"hello world\" starts with \"hello\" and ends with \"world\".\n"
     ]
    }
   ],
   "source": [
    "#4.\n",
    "def check_string(s, prefix, suffix):\n",
    "\n",
    "    starts_with_prefix = s.startswith(prefix)\n",
    "\n",
    "    ends_with_suffix = s.endswith(suffix)\n",
    "    \n",
    "    return starts_with_prefix and ends_with_suffix\n",
    "\n",
    "s = \"hello world\"\n",
    "prefix = \"hello\"\n",
    "suffix = \"world\"\n",
    "\n",
    "if check_string(s, prefix, suffix):\n",
    "    print(f'The string \"{s}\" starts with \"{prefix}\" and ends with \"{suffix}\".')\n",
    "else:\n",
    "    print(f'The string \"{s}\" does not start with \"{prefix}\" or does not end with \"{suffix}\".')\n"
   ]
  },
  {
   "cell_type": "code",
   "execution_count": 28,
   "metadata": {},
   "outputs": [
    {
     "data": {
      "text/plain": [
       "3"
      ]
     },
     "execution_count": 28,
     "metadata": {},
     "output_type": "execute_result"
    }
   ],
   "source": [
    "#5.\n",
    "def count_char(string,char):\n",
    "    count=0\n",
    "    for str_char in string:\n",
    "        if char==str_char:\n",
    "            count+=1\n",
    "\n",
    "    return count\n",
    "count_char(s,\"l\")\n"
   ]
  },
  {
   "cell_type": "markdown",
   "metadata": {},
   "source": [
    "### 3\\. Control Flow (Conditionals and Loops)\n",
    "\n",
    "1.  Write a Python program to find whether a number is even or odd using an `if` condition.\n",
    "2.  Write a Python program to check whether a number is divisible by both 2 and 3 using an `if` condition.\n",
    "3.  Write a Python program to print all even numbers from 1 to 100 using a `for` loop.\n",
    "4.  Write a Python program to calculate the sum of numbers from 1 to N using a `while` loop.\n",
    "5.  Write a Python program to print a multiplication table using a loop."
   ]
  },
  {
   "cell_type": "code",
   "execution_count": null,
   "metadata": {},
   "outputs": [
    {
     "data": {
      "text/plain": [
       "'even'"
      ]
     },
     "execution_count": 30,
     "metadata": {},
     "output_type": "execute_result"
    }
   ],
   "source": [
    "#1.\n",
    "def even_or_odd(num):\n",
    "    if num%2==0:\n",
    "        return \"even\"\n",
    "    else:\n",
    "        return \"odd\"\n",
    "even_or_odd(2)"
   ]
  },
  {
   "cell_type": "code",
   "execution_count": null,
   "metadata": {},
   "outputs": [
    {
     "data": {
      "text/plain": [
       "False"
      ]
     },
     "execution_count": 32,
     "metadata": {},
     "output_type": "execute_result"
    }
   ],
   "source": [
    "#2.\n",
    "def divisible_both_3_and_2(num):\n",
    "    if(num%2==0 and num%3==0):\n",
    "        return True\n",
    "    else:\n",
    "        return False\n",
    "divisible_both_3_and_2(4)"
   ]
  },
  {
   "cell_type": "code",
   "execution_count": null,
   "metadata": {},
   "outputs": [],
   "source": [
    "#3.\n",
    "for i in range(1,101):\n",
    "    if i%2==0:\n",
    "        print(i)\n"
   ]
  },
  {
   "cell_type": "code",
   "execution_count": 36,
   "metadata": {},
   "outputs": [
    {
     "data": {
      "text/plain": [
       "1275"
      ]
     },
     "execution_count": 36,
     "metadata": {},
     "output_type": "execute_result"
    }
   ],
   "source": [
    "#4.\n",
    "def sum_of_n(num):\n",
    "    i=1\n",
    "    result =0\n",
    "    while(i<=num):\n",
    "        result+=i\n",
    "        i+=1\n",
    "    return result\n",
    "sum_of_n(50)\n"
   ]
  },
  {
   "cell_type": "code",
   "execution_count": 37,
   "metadata": {},
   "outputs": [
    {
     "name": "stdout",
     "output_type": "stream",
     "text": [
      "4X1 = 4\n",
      "4X2 = 8\n",
      "4X3 = 12\n",
      "4X4 = 16\n",
      "4X5 = 20\n",
      "4X6 = 24\n",
      "4X7 = 28\n",
      "4X8 = 32\n",
      "4X9 = 36\n",
      "4X10 = 40\n"
     ]
    }
   ],
   "source": [
    "#5. \n",
    "def multiplication_table(num):\n",
    "    for i in range(1,11):\n",
    "        print(f\"{num}X{i} = {num*i}\")\n",
    "multiplication_table(4)"
   ]
  },
  {
   "cell_type": "markdown",
   "metadata": {},
   "source": [
    "### 4\\. Functions and Recursion\n",
    "\n",
    "1.  Write a Python function to calculate the factorial of a number.\n",
    "2.  Write a Python function to return the maximum of three numbers.\n",
    "3.  Write a Python function that checks if a number is prime.\n",
    "4.  Write a Python function that accepts a list of numbers and returns the largest number.\n",
    "5.  Write a Python function to compute the nth Fibonacci number using recursion."
   ]
  },
  {
   "cell_type": "code",
   "execution_count": null,
   "metadata": {},
   "outputs": [
    {
     "ename": "KeyboardInterrupt",
     "evalue": "",
     "output_type": "error",
     "traceback": [
      "\u001b[1;31m---------------------------------------------------------------------------\u001b[0m",
      "\u001b[1;31mKeyboardInterrupt\u001b[0m                         Traceback (most recent call last)",
      "Cell \u001b[1;32mIn[41], line 5\u001b[0m\n\u001b[0;32m      3\u001b[0m         \u001b[38;5;28;01mreturn\u001b[39;00m\n\u001b[0;32m      4\u001b[0m     \u001b[38;5;28;01mreturn\u001b[39;00m( factorial(num\u001b[38;5;241m*\u001b[39mnum\u001b[38;5;241m-\u001b[39m\u001b[38;5;241m1\u001b[39m))\n\u001b[1;32m----> 5\u001b[0m \u001b[43mfactorial\u001b[49m\u001b[43m(\u001b[49m\u001b[38;5;241;43m4\u001b[39;49m\u001b[43m)\u001b[49m\n",
      "Cell \u001b[1;32mIn[41], line 4\u001b[0m, in \u001b[0;36mfactorial\u001b[1;34m(num)\u001b[0m\n\u001b[0;32m      2\u001b[0m \u001b[38;5;28;01mif\u001b[39;00m num \u001b[38;5;241m<\u001b[39m\u001b[38;5;241m1\u001b[39m:\n\u001b[0;32m      3\u001b[0m     \u001b[38;5;28;01mreturn\u001b[39;00m\n\u001b[1;32m----> 4\u001b[0m \u001b[38;5;28;01mreturn\u001b[39;00m( \u001b[43mfactorial\u001b[49m\u001b[43m(\u001b[49m\u001b[43mnum\u001b[49m\u001b[38;5;241;43m*\u001b[39;49m\u001b[43mnum\u001b[49m\u001b[38;5;241;43m-\u001b[39;49m\u001b[38;5;241;43m1\u001b[39;49m\u001b[43m)\u001b[49m)\n",
      "Cell \u001b[1;32mIn[41], line 4\u001b[0m, in \u001b[0;36mfactorial\u001b[1;34m(num)\u001b[0m\n\u001b[0;32m      2\u001b[0m \u001b[38;5;28;01mif\u001b[39;00m num \u001b[38;5;241m<\u001b[39m\u001b[38;5;241m1\u001b[39m:\n\u001b[0;32m      3\u001b[0m     \u001b[38;5;28;01mreturn\u001b[39;00m\n\u001b[1;32m----> 4\u001b[0m \u001b[38;5;28;01mreturn\u001b[39;00m( \u001b[43mfactorial\u001b[49m\u001b[43m(\u001b[49m\u001b[43mnum\u001b[49m\u001b[38;5;241;43m*\u001b[39;49m\u001b[43mnum\u001b[49m\u001b[38;5;241;43m-\u001b[39;49m\u001b[38;5;241;43m1\u001b[39;49m\u001b[43m)\u001b[49m)\n",
      "    \u001b[1;31m[... skipping similar frames: factorial at line 4 (22 times)]\u001b[0m\n",
      "Cell \u001b[1;32mIn[41], line 4\u001b[0m, in \u001b[0;36mfactorial\u001b[1;34m(num)\u001b[0m\n\u001b[0;32m      2\u001b[0m \u001b[38;5;28;01mif\u001b[39;00m num \u001b[38;5;241m<\u001b[39m\u001b[38;5;241m1\u001b[39m:\n\u001b[0;32m      3\u001b[0m     \u001b[38;5;28;01mreturn\u001b[39;00m\n\u001b[1;32m----> 4\u001b[0m \u001b[38;5;28;01mreturn\u001b[39;00m( \u001b[43mfactorial\u001b[49m\u001b[43m(\u001b[49m\u001b[43mnum\u001b[49m\u001b[38;5;241;43m*\u001b[39;49m\u001b[43mnum\u001b[49m\u001b[38;5;241;43m-\u001b[39;49m\u001b[38;5;241;43m1\u001b[39;49m\u001b[43m)\u001b[49m)\n",
      "Cell \u001b[1;32mIn[41], line 1\u001b[0m, in \u001b[0;36mfactorial\u001b[1;34m(num)\u001b[0m\n\u001b[1;32m----> 1\u001b[0m \u001b[38;5;28;01mdef\u001b[39;00m \u001b[38;5;21mfactorial\u001b[39m(num):\n\u001b[0;32m      2\u001b[0m     \u001b[38;5;28;01mif\u001b[39;00m num \u001b[38;5;241m<\u001b[39m\u001b[38;5;241m1\u001b[39m:\n\u001b[0;32m      3\u001b[0m         \u001b[38;5;28;01mreturn\u001b[39;00m\n",
      "File \u001b[1;32m~\\AppData\\Roaming\\Python\\Python312\\site-packages\\debugpy\\_vendored\\pydevd\\_pydevd_bundle\\pydevd_trace_dispatch_regular.py:364\u001b[0m, in \u001b[0;36mThreadTracer.__call__\u001b[1;34m(self, frame, event, arg)\u001b[0m\n\u001b[0;32m    361\u001b[0m     \u001b[38;5;28;01mreturn\u001b[39;00m \u001b[38;5;28;01mNone\u001b[39;00m \u001b[38;5;28;01mif\u001b[39;00m event \u001b[38;5;241m==\u001b[39m \u001b[38;5;124m'\u001b[39m\u001b[38;5;124mcall\u001b[39m\u001b[38;5;124m'\u001b[39m \u001b[38;5;28;01melse\u001b[39;00m NO_FTRACE\n\u001b[0;32m    363\u001b[0m \u001b[38;5;66;03m# if thread is not alive, cancel trace_dispatch processing\u001b[39;00m\n\u001b[1;32m--> 364\u001b[0m \u001b[38;5;28;01mif\u001b[39;00m \u001b[38;5;129;01mnot\u001b[39;00m \u001b[43mis_thread_alive\u001b[49m\u001b[43m(\u001b[49m\u001b[43mt\u001b[49m\u001b[43m)\u001b[49m:\n\u001b[0;32m    365\u001b[0m     py_db\u001b[38;5;241m.\u001b[39mnotify_thread_not_alive(get_current_thread_id(t))\n\u001b[0;32m    366\u001b[0m     \u001b[38;5;28;01mreturn\u001b[39;00m \u001b[38;5;28;01mNone\u001b[39;00m \u001b[38;5;28;01mif\u001b[39;00m event \u001b[38;5;241m==\u001b[39m \u001b[38;5;124m'\u001b[39m\u001b[38;5;124mcall\u001b[39m\u001b[38;5;124m'\u001b[39m \u001b[38;5;28;01melse\u001b[39;00m NO_FTRACE\n",
      "File \u001b[1;32m~\\AppData\\Roaming\\Python\\Python312\\site-packages\\debugpy\\_vendored\\pydevd\\_pydev_bundle\\pydev_is_thread_alive.py:9\u001b[0m, in \u001b[0;36mis_thread_alive\u001b[1;34m(t)\u001b[0m\n\u001b[0;32m      6\u001b[0m _temp \u001b[38;5;241m=\u001b[39m threading\u001b[38;5;241m.\u001b[39mThread()\n\u001b[0;32m      7\u001b[0m \u001b[38;5;28;01mif\u001b[39;00m \u001b[38;5;28mhasattr\u001b[39m(_temp, \u001b[38;5;124m'\u001b[39m\u001b[38;5;124m_is_stopped\u001b[39m\u001b[38;5;124m'\u001b[39m):  \u001b[38;5;66;03m# Python 3.x has this\u001b[39;00m\n\u001b[1;32m----> 9\u001b[0m     \u001b[38;5;28;01mdef\u001b[39;00m \u001b[38;5;21mis_thread_alive\u001b[39m(t):\n\u001b[0;32m     10\u001b[0m         \u001b[38;5;28;01mreturn\u001b[39;00m \u001b[38;5;129;01mnot\u001b[39;00m t\u001b[38;5;241m.\u001b[39m_is_stopped\n\u001b[0;32m     12\u001b[0m \u001b[38;5;28;01melif\u001b[39;00m \u001b[38;5;28mhasattr\u001b[39m(_temp, \u001b[38;5;124m'\u001b[39m\u001b[38;5;124m_Thread__stopped\u001b[39m\u001b[38;5;124m'\u001b[39m):  \u001b[38;5;66;03m# Python 2.x has this\u001b[39;00m\n",
      "\u001b[1;31mKeyboardInterrupt\u001b[0m: "
     ]
    }
   ],
   "source": [
    "def factorial(num):\n",
    "    if num <=1:\n",
    "        return 1\n",
    "    return num *factorial(num-1)\n",
    "factorial(4)"
   ]
  },
  {
   "cell_type": "code",
   "execution_count": null,
   "metadata": {},
   "outputs": [],
   "source": []
  }
 ],
 "metadata": {
  "kernelspec": {
   "display_name": "base",
   "language": "python",
   "name": "python3"
  },
  "language_info": {
   "codemirror_mode": {
    "name": "ipython",
    "version": 3
   },
   "file_extension": ".py",
   "mimetype": "text/x-python",
   "name": "python",
   "nbconvert_exporter": "python",
   "pygments_lexer": "ipython3",
   "version": "3.12.7"
  }
 },
 "nbformat": 4,
 "nbformat_minor": 2
}
