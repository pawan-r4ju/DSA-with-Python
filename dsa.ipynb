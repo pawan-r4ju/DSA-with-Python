{
 "cells": [
  {
   "cell_type": "code",
   "execution_count": null,
   "metadata": {},
   "outputs": [
    {
     "name": "stdout",
     "output_type": "stream",
     "text": [
      "[1, 2, 4]\n",
      "[4, 3, 2, 2]\n",
      "[1, 0, 0, 0]\n"
     ]
    }
   ],
   "source": [
    "def plus_one(digits):\n",
    "    n = len(digits)\n",
    "    for i in range(n - 1, -1, -1):\n",
    "        if digits[i] < 9:\n",
    "            digits[i] += 1\n",
    "            return digits\n",
    "        digits[i] = 0\n",
    "    return [1] + digits\n",
    "\n",
    "\n",
    "digits1 = [1, 2, 3]\n",
    "digits2 = [4, 3, 2, 1]\n",
    "digits3 = [9, 9, 9]\n",
    "\n",
    "print(plus_one(digits1))\n",
    "print(plus_one(digits2))\n",
    "print(plus_one(digits3))"
   ]
  },
  {
   "cell_type": "code",
   "execution_count": null,
   "metadata": {},
   "outputs": [
    {
     "name": "stdout",
     "output_type": "stream",
     "text": [
      "[1, 5, 2, 3, 4, 5]\n"
     ]
    }
   ],
   "source": [
    "arr = [5, 2, 3, 4, 5]\n",
    "\n",
    "print([1] + arr)"
   ]
  },
  {
   "cell_type": "code",
   "execution_count": null,
   "metadata": {},
   "outputs": [
    {
     "name": "stdout",
     "output_type": "stream",
     "text": [
      "[38]\n",
      "[25, 38]\n",
      "[27]\n",
      "[25, 27, 38, 43]\n",
      "[3]\n",
      "[3, 9]\n",
      "[82]\n",
      "Sorted Array: [3, 9, 10, 25, 27, 38, 43, 82]\n"
     ]
    }
   ],
   "source": [
    "def merge_sort(arr):\n",
    "    # Base case: A list of zero or one elements is already sorted\n",
    "    if len(arr) <= 1:\n",
    "        return arr\n",
    "\n",
    "    # Divide the array into two halves\n",
    "    mid = len(arr) // 2\n",
    "    left_half = merge_sort(arr[:mid])\n",
    "    print(left_half)\n",
    "    right_half = merge_sort(arr[mid:])\n",
    "\n",
    "    # Merge the sorted halves\n",
    "    return merge(left_half, right_half)\n",
    "\n",
    "\n",
    "def merge(left, right):\n",
    "    sorted_array = []\n",
    "    i = j = 0\n",
    "\n",
    "    # Compare elements from both halves and add the smaller one to the result\n",
    "    while i < len(left) and j < len(right):\n",
    "        if left[i] <= right[j]:\n",
    "            sorted_array.append(left[i])\n",
    "            i += 1\n",
    "        else:\n",
    "            sorted_array.append(right[j])\n",
    "            j += 1\n",
    "\n",
    "    # Append any remaining elements from the left half\n",
    "    while i < len(left):\n",
    "        sorted_array.append(left[i])\n",
    "        i += 1\n",
    "\n",
    "    # Append any remaining elements from the right half\n",
    "    while j < len(right):\n",
    "        sorted_array.append(right[j])\n",
    "        j += 1\n",
    "\n",
    "    return sorted_array\n",
    "\n",
    "\n",
    "# Example usage\n",
    "arr = [38, 25, 27, 43, 3, 9, 82, 10]\n",
    "sorted_arr = merge_sort(arr)\n",
    "print(\"Sorted Array:\", sorted_arr)"
   ]
  },
  {
   "cell_type": "code",
   "execution_count": null,
   "metadata": {},
   "outputs": [
    {
     "name": "stdout",
     "output_type": "stream",
     "text": [
      "[38, 25, 27, 43]\n"
     ]
    }
   ],
   "source": [
    "a1 = [38, 25, 27, 43, 3, 9, 82, 10]\n",
    "print(a1[:4])"
   ]
  },
  {
   "cell_type": "code",
   "execution_count": null,
   "metadata": {},
   "outputs": [
    {
     "data": {
      "text/plain": [
       "False"
      ]
     },
     "execution_count": 21,
     "metadata": {},
     "output_type": "execute_result"
    }
   ],
   "source": [
    "# digits1 = [1, 2, 3]\n",
    "# digits2 = [4, 3, 2, 1]\n",
    "# digits3 = [9,9,9]\n",
    "def armstrong(n):\n",
    "    sum = 0\n",
    "    count = 0\n",
    "    temp = n\n",
    "    while temp > 0:\n",
    "        digit = temp % 10\n",
    "        count += 1\n",
    "        temp = temp // 10\n",
    "    temp = n\n",
    "    while temp > 0:\n",
    "        digit = temp % 10\n",
    "        sum += pow(digit, count)\n",
    "        temp = temp // 10\n",
    "    if n == sum:\n",
    "        return True\n",
    "    else:\n",
    "        return False\n",
    "\n",
    "\n",
    "armstrong(123)"
   ]
  },
  {
   "cell_type": "code",
   "execution_count": null,
   "metadata": {},
   "outputs": [
    {
     "name": "stdout",
     "output_type": "stream",
     "text": [
      "9\n",
      "99\n"
     ]
    }
   ],
   "source": [
    "digits1 = [1, 2, 3]\n",
    "digits2 = [4, 3, 2, 1]\n",
    "digits3 = [9, 9]\n",
    "result = 0\n",
    "for digit in digits3:\n",
    "    result = (result * 10) + digit\n",
    "    print(result)"
   ]
  },
  {
   "cell_type": "code",
   "execution_count": null,
   "metadata": {},
   "outputs": [
    {
     "name": "stdout",
     "output_type": "stream",
     "text": [
      "abc\n",
      "\n"
     ]
    }
   ],
   "source": [
    "def remove_digits(s: str) -> str:\n",
    "    stack = []\n",
    "    for char in s:\n",
    "        if char.isdigit():\n",
    "            if stack:\n",
    "                stack.pop()\n",
    "        else:\n",
    "            stack.append(char)\n",
    "\n",
    "    return \"\".join(stack)\n",
    "\n",
    "\n",
    "print(remove_digits(\"abc\"))\n",
    "print(remove_digits(\"cb34\"))"
   ]
  },
  {
   "cell_type": "code",
   "execution_count": null,
   "metadata": {},
   "outputs": [],
   "source": [
    "def romanToInt(self, s: str) -> int:\n",
    "    total = 0\n",
    "    roman = {\"I\": 1, \"V\": 5, \"X\": 10, \"L\": 50, \"C\": 100, \"D\": 500, \"M\": 1000}\n",
    "    for i in range(len(s)):\n",
    "        current = roman[s[i]]\n",
    "        next = 0\n",
    "        if i + 1 >= len(s):\n",
    "            next = 0\n",
    "        else:\n",
    "            next = roman[s[i + 1]]\n",
    "        if current < next:\n",
    "            total += -current\n",
    "        else:\n",
    "            total += current\n",
    "    return total"
   ]
  },
  {
   "cell_type": "code",
   "execution_count": null,
   "metadata": {},
   "outputs": [
    {
     "name": "stdout",
     "output_type": "stream",
     "text": [
      "fl\n",
      "\n"
     ]
    }
   ],
   "source": [
    "def longestCommonPrefix(strs):\n",
    "    if not strs:\n",
    "        return \"\"\n",
    "\n",
    "    prefix = strs[0]\n",
    "\n",
    "    for string in strs[1:]:\n",
    "        while string[: len(prefix)] != prefix:\n",
    "\n",
    "            prefix = prefix[:-1]\n",
    "            if not prefix:\n",
    "                return \"\"\n",
    "\n",
    "    return prefix\n",
    "\n",
    "\n",
    "strs1 = [\"flower\", \"flow\", \"flight\"]\n",
    "strs2 = [\"dog\", \"racecar\", \"car\"]\n",
    "\n",
    "\n",
    "print(longestCommonPrefix(strs1))\n",
    "print(longestCommonPrefix(strs2))"
   ]
  },
  {
   "cell_type": "code",
   "execution_count": null,
   "metadata": {},
   "outputs": [],
   "source": [
    "def isValid(self, s: str) -> bool:\n",
    "    stack = []\n",
    "    pairs = {\")\": \"(\", \"}\": \"{\", \"]\": \"[\"}\n",
    "\n",
    "    for char in s:\n",
    "        if char not in pairs:  \n",
    "            stack.append(char)\n",
    "        else:  \n",
    "            if not stack or stack.pop() != pairs[char]:\n",
    "                return False\n",
    "\n",
    "    return len(stack) == 0"
   ]
  },
  {
   "cell_type": "code",
   "execution_count": null,
   "metadata": {},
   "outputs": [],
   "source": [
    "class Solution:\n",
    "    def removeOccurrences(self, s: str, part: str) -> str:\n",
    "        while part in s:\n",
    "            s = s.replace(part, '', 1)  \n",
    "        return s\n",
    "\n",
    "solution = Solution()\n",
    "print(solution.removeOccurrences(\"daabcbaabcbc\", \"abc\"))  # Output: \"dab\"\n",
    "print(solution.removeOccurrences(\"axxxxyyyyb\", \"xy\"))     # Output: \"ab\"\n"
   ]
  },
  {
   "cell_type": "code",
   "execution_count": null,
   "metadata": {},
   "outputs": [],
   "source": [
    "class Solution:\n",
    "    def strStr(self, haystack: str, needle: str) -> int:\n",
    "        if not needle:\n",
    "            return 0\n",
    "        haystack_len = len(haystack)\n",
    "        needle_len = len(needle)\n",
    "      \n",
    "        for i in range(haystack_len - needle_len + 1):\n",
    "        \n",
    "            if haystack[i:i + needle_len] == needle:\n",
    "                return i\n",
    "        \n",
    "      \n",
    "        return -1\n",
    "\n",
    "\n",
    "solution = Solution()\n",
    "print(solution.strStr(\"hello\", \"ll\"))  \n",
    "print(solution.strStr(\"aaaaa\", \"bba\")) "
   ]
  }
 ],
 "metadata": {
  "kernelspec": {
   "display_name": "base",
   "language": "python",
   "name": "python3"
  },
  "language_info": {
   "codemirror_mode": {
    "name": "ipython",
    "version": 3
   },
   "file_extension": ".py",
   "mimetype": "text/x-python",
   "name": "python",
   "nbconvert_exporter": "python",
   "pygments_lexer": "ipython3",
   "version": "3.12.7"
  }
 },
 "nbformat": 4,
 "nbformat_minor": 2
}
